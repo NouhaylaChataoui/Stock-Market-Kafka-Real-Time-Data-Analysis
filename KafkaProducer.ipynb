{
  "nbformat": 4,
  "nbformat_minor": 0,
  "metadata": {
    "colab": {
      "provenance": []
    },
    "kernelspec": {
      "name": "python3",
      "display_name": "Python 3"
    },
    "language_info": {
      "name": "python"
    }
  },
  "cells": [
    {
      "cell_type": "code",
      "source": [
        "!pip install kafka-python\n",
        "!pip install confluent_kafka"
      ],
      "metadata": {
        "colab": {
          "base_uri": "https://localhost:8080/"
        },
        "id": "YdvvERP0b3D7",
        "outputId": "ccebf432-7dfe-4a0f-b19f-ec1e0363c5a5"
      },
      "execution_count": 7,
      "outputs": [
        {
          "output_type": "stream",
          "name": "stdout",
          "text": [
            "Requirement already satisfied: kafka-python in /usr/local/lib/python3.10/dist-packages (2.0.2)\n",
            "Requirement already satisfied: confluent_kafka in /usr/local/lib/python3.10/dist-packages (2.5.3)\n"
          ]
        }
      ]
    },
    {
      "cell_type": "code",
      "source": [
        "import pandas as pd\n",
        "from kafka import KafkaProducer\n",
        "from time import sleep\n",
        "from json import dumps\n",
        "import json"
      ],
      "metadata": {
        "id": "acBMSFkzbk1Y"
      },
      "execution_count": 2,
      "outputs": []
    },
    {
      "cell_type": "code",
      "source": [
        "import pandas as pd\n",
        "from confluent_kafka import Producer\n",
        "from kafka import KafkaProducer, KafkaConsumer\n",
        "from time import sleep\n",
        "from json import dumps\n",
        "import json\n",
        "import requests\n",
        "import os"
      ],
      "metadata": {
        "id": "WauTC_NZkjzM"
      },
      "execution_count": 5,
      "outputs": []
    },
    {
      "cell_type": "code",
      "source": [
        "#Method-1\n",
        "api_key = os.getenv('ALPHA_VANTAGE_API_KEY')\n",
        "url = 'https://www.alphavantage.co/query?function=TIME_SERIES_INTRADAY&symbol=INFY&interval=1min&apikey=api_key'\n",
        "r = requests.get(url)\n",
        "data = r.json()\n",
        "print(data)\n",
        ""
      ],
      "metadata": {
        "colab": {
          "base_uri": "https://localhost:8080/"
        },
        "id": "R2og4Wd0k0Vj",
        "outputId": "8f63ca04-132b-4f68-8e3c-46eef657f320"
      },
      "execution_count": 6,
      "outputs": [
        {
          "output_type": "stream",
          "name": "stdout",
          "text": [
            "{'Meta Data': {'1. Information': 'Intraday (1min) open, high, low, close prices and volume', '2. Symbol': 'INFY', '3. Last Refreshed': '2024-09-20 19:15:00', '4. Interval': '1min', '5. Output Size': 'Compact', '6. Time Zone': 'US/Eastern'}, 'Time Series (1min)': {'2024-09-20 19:15:00': {'1. open': '22.8865', '2. high': '22.8865', '3. low': '22.8865', '4. close': '22.8865', '5. volume': '10'}, '2024-09-20 19:00:00': {'1. open': '22.8500', '2. high': '22.8500', '3. low': '22.8500', '4. close': '22.8500', '5. volume': '8366123'}, '2024-09-20 18:42:00': {'1. open': '22.8200', '2. high': '22.8200', '3. low': '22.8200', '4. close': '22.8200', '5. volume': '1'}, '2024-09-20 18:30:00': {'1. open': '22.8500', '2. high': '22.8500', '3. low': '22.8500', '4. close': '22.8500', '5. volume': '8366123'}, '2024-09-20 18:10:00': {'1. open': '22.8208', '2. high': '22.8208', '3. low': '22.8208', '4. close': '22.8208', '5. volume': '2'}, '2024-09-20 18:00:00': {'1. open': '22.8500', '2. high': '22.8500', '3. low': '22.8500', '4. close': '22.8500', '5. volume': '8199'}, '2024-09-20 16:40:00': {'1. open': '22.8500', '2. high': '22.8500', '3. low': '22.8500', '4. close': '22.8500', '5. volume': '49330'}, '2024-09-20 16:28:00': {'1. open': '22.8200', '2. high': '22.8200', '3. low': '22.8200', '4. close': '22.8200', '5. volume': '1'}, '2024-09-20 16:23:00': {'1. open': '22.8500', '2. high': '22.8500', '3. low': '22.8500', '4. close': '22.8500', '5. volume': '35867'}, '2024-09-20 16:14:00': {'1. open': '22.8500', '2. high': '22.8500', '3. low': '22.8500', '4. close': '22.8500', '5. volume': '5494'}, '2024-09-20 16:11:00': {'1. open': '22.8500', '2. high': '22.8500', '3. low': '22.8500', '4. close': '22.8500', '5. volume': '46'}, '2024-09-20 16:10:00': {'1. open': '22.8500', '2. high': '22.8500', '3. low': '22.8500', '4. close': '22.8500', '5. volume': '8366123'}, '2024-09-20 16:04:00': {'1. open': '22.8200', '2. high': '22.8500', '3. low': '22.8200', '4. close': '22.8500', '5. volume': '4684421'}, '2024-09-20 16:02:00': {'1. open': '22.8890', '2. high': '22.8890', '3. low': '22.8890', '4. close': '22.8890', '5. volume': '100'}, '2024-09-20 16:01:00': {'1. open': '22.8900', '2. high': '22.8900', '3. low': '22.8900', '4. close': '22.8900', '5. volume': '10'}, '2024-09-20 16:00:00': {'1. open': '22.8500', '2. high': '22.8500', '3. low': '22.8500', '4. close': '22.8500', '5. volume': '17486857'}, '2024-09-20 15:59:00': {'1. open': '22.8900', '2. high': '22.8950', '3. low': '22.8200', '4. close': '22.8500', '5. volume': '887572'}, '2024-09-20 15:58:00': {'1. open': '22.8900', '2. high': '22.8900', '3. low': '22.8800', '4. close': '22.8850', '5. volume': '114087'}, '2024-09-20 15:57:00': {'1. open': '22.8656', '2. high': '22.8900', '3. low': '22.8600', '4. close': '22.8900', '5. volume': '137100'}, '2024-09-20 15:56:00': {'1. open': '22.8650', '2. high': '22.8700', '3. low': '22.8600', '4. close': '22.8695', '5. volume': '64447'}, '2024-09-20 15:55:00': {'1. open': '22.8500', '2. high': '22.8900', '3. low': '22.8500', '4. close': '22.8650', '5. volume': '230428'}, '2024-09-20 15:54:00': {'1. open': '22.8450', '2. high': '22.8550', '3. low': '22.8400', '4. close': '22.8550', '5. volume': '116013'}, '2024-09-20 15:53:00': {'1. open': '22.8400', '2. high': '22.8500', '3. low': '22.8400', '4. close': '22.8450', '5. volume': '98218'}, '2024-09-20 15:52:00': {'1. open': '22.8550', '2. high': '22.8593', '3. low': '22.8400', '4. close': '22.8450', '5. volume': '87558'}, '2024-09-20 15:51:00': {'1. open': '22.8550', '2. high': '22.8600', '3. low': '22.8400', '4. close': '22.8550', '5. volume': '110602'}, '2024-09-20 15:50:00': {'1. open': '22.8900', '2. high': '22.9000', '3. low': '22.8400', '4. close': '22.8550', '5. volume': '167886'}, '2024-09-20 15:49:00': {'1. open': '22.8750', '2. high': '22.8850', '3. low': '22.8700', '4. close': '22.8750', '5. volume': '51437'}, '2024-09-20 15:48:00': {'1. open': '22.8750', '2. high': '22.8850', '3. low': '22.8700', '4. close': '22.8750', '5. volume': '80513'}, '2024-09-20 15:47:00': {'1. open': '22.8900', '2. high': '22.8900', '3. low': '22.8750', '4. close': '22.8750', '5. volume': '55197'}, '2024-09-20 15:46:00': {'1. open': '22.8950', '2. high': '22.8950', '3. low': '22.8850', '4. close': '22.8850', '5. volume': '58525'}, '2024-09-20 15:45:00': {'1. open': '22.8750', '2. high': '22.9000', '3. low': '22.8700', '4. close': '22.8950', '5. volume': '72549'}, '2024-09-20 15:44:00': {'1. open': '22.8750', '2. high': '22.8800', '3. low': '22.8700', '4. close': '22.8800', '5. volume': '12836'}, '2024-09-20 15:43:00': {'1. open': '22.8750', '2. high': '22.8850', '3. low': '22.8700', '4. close': '22.8750', '5. volume': '75966'}, '2024-09-20 15:42:00': {'1. open': '22.8798', '2. high': '22.8850', '3. low': '22.8750', '4. close': '22.8800', '5. volume': '73778'}, '2024-09-20 15:41:00': {'1. open': '22.8600', '2. high': '22.8800', '3. low': '22.8550', '4. close': '22.8800', '5. volume': '80749'}, '2024-09-20 15:40:00': {'1. open': '22.8550', '2. high': '22.8600', '3. low': '22.8500', '4. close': '22.8600', '5. volume': '26832'}, '2024-09-20 15:39:00': {'1. open': '22.8600', '2. high': '22.8600', '3. low': '22.8550', '4. close': '22.8600', '5. volume': '14682'}, '2024-09-20 15:38:00': {'1. open': '22.8350', '2. high': '22.8600', '3. low': '22.8350', '4. close': '22.8600', '5. volume': '63510'}, '2024-09-20 15:37:00': {'1. open': '22.8350', '2. high': '22.8400', '3. low': '22.8350', '4. close': '22.8400', '5. volume': '13340'}, '2024-09-20 15:36:00': {'1. open': '22.8350', '2. high': '22.8500', '3. low': '22.8350', '4. close': '22.8350', '5. volume': '86498'}, '2024-09-20 15:35:00': {'1. open': '22.8100', '2. high': '22.8400', '3. low': '22.8100', '4. close': '22.8350', '5. volume': '72101'}, '2024-09-20 15:34:00': {'1. open': '22.8050', '2. high': '22.8100', '3. low': '22.8050', '4. close': '22.8100', '5. volume': '8741'}, '2024-09-20 15:33:00': {'1. open': '22.8200', '2. high': '22.8250', '3. low': '22.8050', '4. close': '22.8050', '5. volume': '23912'}, '2024-09-20 15:32:00': {'1. open': '22.8350', '2. high': '22.8450', '3. low': '22.8250', '4. close': '22.8250', '5. volume': '64588'}, '2024-09-20 15:31:00': {'1. open': '22.8300', '2. high': '22.8350', '3. low': '22.8250', '4. close': '22.8350', '5. volume': '82749'}, '2024-09-20 15:30:00': {'1. open': '22.8350', '2. high': '22.8400', '3. low': '22.8300', '4. close': '22.8350', '5. volume': '22457'}, '2024-09-20 15:29:00': {'1. open': '22.8400', '2. high': '22.8400', '3. low': '22.8300', '4. close': '22.8350', '5. volume': '85701'}, '2024-09-20 15:28:00': {'1. open': '22.8300', '2. high': '22.8400', '3. low': '22.8250', '4. close': '22.8400', '5. volume': '22430'}, '2024-09-20 15:27:00': {'1. open': '22.8250', '2. high': '22.8300', '3. low': '22.8250', '4. close': '22.8250', '5. volume': '9608'}, '2024-09-20 15:26:00': {'1. open': '22.8200', '2. high': '22.8300', '3. low': '22.8150', '4. close': '22.8250', '5. volume': '14986'}, '2024-09-20 15:25:00': {'1. open': '22.8200', '2. high': '22.8200', '3. low': '22.8150', '4. close': '22.8150', '5. volume': '8562'}, '2024-09-20 15:24:00': {'1. open': '22.8200', '2. high': '22.8200', '3. low': '22.8101', '4. close': '22.8150', '5. volume': '15347'}, '2024-09-20 15:23:00': {'1. open': '22.8250', '2. high': '22.8250', '3. low': '22.8108', '4. close': '22.8150', '5. volume': '71399'}, '2024-09-20 15:22:00': {'1. open': '22.8250', '2. high': '22.8300', '3. low': '22.8200', '4. close': '22.8250', '5. volume': '11700'}, '2024-09-20 15:21:00': {'1. open': '22.8150', '2. high': '22.8300', '3. low': '22.8150', '4. close': '22.8250', '5. volume': '20250'}, '2024-09-20 15:20:00': {'1. open': '22.8050', '2. high': '22.8200', '3. low': '22.8000', '4. close': '22.8200', '5. volume': '19347'}, '2024-09-20 15:19:00': {'1. open': '22.7950', '2. high': '22.8050', '3. low': '22.7900', '4. close': '22.8050', '5. volume': '30423'}, '2024-09-20 15:18:00': {'1. open': '22.7950', '2. high': '22.8000', '3. low': '22.7950', '4. close': '22.8000', '5. volume': '8629'}, '2024-09-20 15:17:00': {'1. open': '22.8000', '2. high': '22.8000', '3. low': '22.7950', '4. close': '22.7950', '5. volume': '7362'}, '2024-09-20 15:16:00': {'1. open': '22.8000', '2. high': '22.8000', '3. low': '22.7950', '4. close': '22.7950', '5. volume': '10830'}, '2024-09-20 15:15:00': {'1. open': '22.8000', '2. high': '22.8000', '3. low': '22.7950', '4. close': '22.7950', '5. volume': '10201'}, '2024-09-20 15:14:00': {'1. open': '22.7950', '2. high': '22.8000', '3. low': '22.7950', '4. close': '22.8000', '5. volume': '12700'}, '2024-09-20 15:13:00': {'1. open': '22.7950', '2. high': '22.8000', '3. low': '22.7900', '4. close': '22.7950', '5. volume': '12282'}, '2024-09-20 15:12:00': {'1. open': '22.7950', '2. high': '22.8000', '3. low': '22.7900', '4. close': '22.7950', '5. volume': '8266'}, '2024-09-20 15:11:00': {'1. open': '22.8000', '2. high': '22.8000', '3. low': '22.7900', '4. close': '22.7950', '5. volume': '18264'}, '2024-09-20 15:10:00': {'1. open': '22.8000', '2. high': '22.8000', '3. low': '22.7939', '4. close': '22.8000', '5. volume': '7601'}, '2024-09-20 15:09:00': {'1. open': '22.7850', '2. high': '22.8000', '3. low': '22.7850', '4. close': '22.7950', '5. volume': '16690'}, '2024-09-20 15:08:00': {'1. open': '22.7850', '2. high': '22.7900', '3. low': '22.7850', '4. close': '22.7900', '5. volume': '6352'}, '2024-09-20 15:07:00': {'1. open': '22.7850', '2. high': '22.7900', '3. low': '22.7850', '4. close': '22.7850', '5. volume': '5435'}, '2024-09-20 15:06:00': {'1. open': '22.7800', '2. high': '22.7900', '3. low': '22.7750', '4. close': '22.7850', '5. volume': '27962'}, '2024-09-20 15:05:00': {'1. open': '22.7750', '2. high': '22.7800', '3. low': '22.7750', '4. close': '22.7750', '5. volume': '7200'}, '2024-09-20 15:04:00': {'1. open': '22.7750', '2. high': '22.7800', '3. low': '22.7750', '4. close': '22.7800', '5. volume': '5155'}, '2024-09-20 15:03:00': {'1. open': '22.7750', '2. high': '22.7800', '3. low': '22.7750', '4. close': '22.7750', '5. volume': '5928'}, '2024-09-20 15:02:00': {'1. open': '22.7750', '2. high': '22.7800', '3. low': '22.7750', '4. close': '22.7750', '5. volume': '6752'}, '2024-09-20 15:01:00': {'1. open': '22.7850', '2. high': '22.7850', '3. low': '22.7750', '4. close': '22.7750', '5. volume': '19343'}, '2024-09-20 15:00:00': {'1. open': '22.7950', '2. high': '22.7950', '3. low': '22.7800', '4. close': '22.7850', '5. volume': '22035'}, '2024-09-20 14:59:00': {'1. open': '22.8000', '2. high': '22.8000', '3. low': '22.7924', '4. close': '22.7924', '5. volume': '11931'}, '2024-09-20 14:58:00': {'1. open': '22.7800', '2. high': '22.7950', '3. low': '22.7750', '4. close': '22.7950', '5. volume': '18197'}, '2024-09-20 14:57:00': {'1. open': '22.7850', '2. high': '22.7900', '3. low': '22.7750', '4. close': '22.7795', '5. volume': '29818'}, '2024-09-20 14:56:00': {'1. open': '22.7900', '2. high': '22.7900', '3. low': '22.7800', '4. close': '22.7900', '5. volume': '9749'}, '2024-09-20 14:55:00': {'1. open': '22.7900', '2. high': '22.7900', '3. low': '22.7850', '4. close': '22.7900', '5. volume': '7646'}, '2024-09-20 14:54:00': {'1. open': '22.7850', '2. high': '22.7900', '3. low': '22.7850', '4. close': '22.7900', '5. volume': '8003'}, '2024-09-20 14:53:00': {'1. open': '22.7850', '2. high': '22.7900', '3. low': '22.7840', '4. close': '22.7900', '5. volume': '13713'}, '2024-09-20 14:52:00': {'1. open': '22.7750', '2. high': '22.7900', '3. low': '22.7750', '4. close': '22.7900', '5. volume': '10014'}, '2024-09-20 14:51:00': {'1. open': '22.7750', '2. high': '22.7800', '3. low': '22.7750', '4. close': '22.7800', '5. volume': '9348'}, '2024-09-20 14:50:00': {'1. open': '22.7850', '2. high': '22.7850', '3. low': '22.7700', '4. close': '22.7750', '5. volume': '56512'}, '2024-09-20 14:49:00': {'1. open': '22.7750', '2. high': '22.7900', '3. low': '22.7750', '4. close': '22.7900', '5. volume': '13831'}, '2024-09-20 14:48:00': {'1. open': '22.7750', '2. high': '22.7800', '3. low': '22.7750', '4. close': '22.7800', '5. volume': '10451'}, '2024-09-20 14:47:00': {'1. open': '22.7600', '2. high': '22.7800', '3. low': '22.7550', '4. close': '22.7800', '5. volume': '20942'}, '2024-09-20 14:46:00': {'1. open': '22.7550', '2. high': '22.7600', '3. low': '22.7550', '4. close': '22.7550', '5. volume': '5757'}, '2024-09-20 14:45:00': {'1. open': '22.7600', '2. high': '22.7600', '3. low': '22.7540', '4. close': '22.7550', '5. volume': '7261'}, '2024-09-20 14:44:00': {'1. open': '22.7450', '2. high': '22.7600', '3. low': '22.7450', '4. close': '22.7550', '5. volume': '35683'}, '2024-09-20 14:43:00': {'1. open': '22.7450', '2. high': '22.7499', '3. low': '22.7450', '4. close': '22.7450', '5. volume': '8882'}, '2024-09-20 14:42:00': {'1. open': '22.7500', '2. high': '22.7550', '3. low': '22.7400', '4. close': '22.7450', '5. volume': '6407'}, '2024-09-20 14:41:00': {'1. open': '22.7500', '2. high': '22.7550', '3. low': '22.7500', '4. close': '22.7500', '5. volume': '5515'}, '2024-09-20 14:40:00': {'1. open': '22.7550', '2. high': '22.7550', '3. low': '22.7500', '4. close': '22.7500', '5. volume': '18955'}, '2024-09-20 14:39:00': {'1. open': '22.7450', '2. high': '22.7550', '3. low': '22.7450', '4. close': '22.7550', '5. volume': '6822'}, '2024-09-20 14:38:00': {'1. open': '22.7500', '2. high': '22.7560', '3. low': '22.7440', '4. close': '22.7440', '5. volume': '34917'}, '2024-09-20 14:37:00': {'1. open': '22.7550', '2. high': '22.7550', '3. low': '22.7500', '4. close': '22.7537', '5. volume': '10145'}, '2024-09-20 14:36:00': {'1. open': '22.7600', '2. high': '22.7650', '3. low': '22.7500', '4. close': '22.7550', '5. volume': '10934'}}}\n"
          ]
        }
      ]
    },
    {
      "cell_type": "code",
      "source": [
        "#Method-2\n",
        "producer = KafkaProducer(bootstrap_servers=[':9092'], #add your IP here\n",
        "                         value_serializer=lambda x:\n",
        "                         dumps(x).encode('utf-8'))"
      ],
      "metadata": {
        "id": "rd49LAmVbpWK"
      },
      "execution_count": null,
      "outputs": []
    },
    {
      "cell_type": "code",
      "source": [
        "producer.send('demo_test', value={'hello':'nouhayla'})"
      ],
      "metadata": {
        "colab": {
          "base_uri": "https://localhost:8080/"
        },
        "id": "y26MYymIoTfo",
        "outputId": "0f79a959-9267-489f-9882-301d0c621c39"
      },
      "execution_count": null,
      "outputs": [
        {
          "output_type": "execute_result",
          "data": {
            "text/plain": [
              "<kafka.producer.future.FutureRecordMetadata at 0x7e0128819870>"
            ]
          },
          "metadata": {},
          "execution_count": 18
        }
      ]
    },
    {
      "cell_type": "code",
      "source": [
        "df = pd.read_csv(\"indexProcessed.csv\")"
      ],
      "metadata": {
        "id": "5o0ErlqUtndc"
      },
      "execution_count": null,
      "outputs": []
    },
    {
      "cell_type": "code",
      "source": [
        "df.sample(5)"
      ],
      "metadata": {
        "colab": {
          "base_uri": "https://localhost:8080/",
          "height": 206
        },
        "id": "xnqBtWzgzPv4",
        "outputId": "394b8142-8c30-44fe-909f-6d8d020979df"
      },
      "execution_count": null,
      "outputs": [
        {
          "output_type": "execute_result",
          "data": {
            "text/plain": [
              "           Index        Date          Open          High           Low  \\\n",
              "42152       N225  1970-01-14   2288.139893   2288.139893   2288.139893   \n",
              "78587       NSEI  2016-01-22   7355.700195   7433.399902   7327.600098   \n",
              "62814  399001.SZ  2008-03-12  15107.839840  15173.120120  14301.480470   \n",
              "54219       N225  2019-01-21  20848.380860  20892.679690  20678.259770   \n",
              "95565       SSMI  2019-08-09   9745.030273   9804.700195   9728.790039   \n",
              "\n",
              "              Close     Adj Close      Volume      CloseUSD  \n",
              "42152   2288.139893   2288.139893         0.0     22.881399  \n",
              "78587   7422.450195   7422.450195    229200.0     74.224502  \n",
              "62814  14348.459960  14348.298830     36200.0   2295.753594  \n",
              "54219  20719.330080  20719.330080  61200000.0    207.193301  \n",
              "95565   9749.919922   9749.919922  63210100.0  10822.411113  "
            ],
            "text/html": [
              "\n",
              "  <div id=\"df-929e5d3b-9ad9-4dd6-8896-7ab462897a44\" class=\"colab-df-container\">\n",
              "    <div>\n",
              "<style scoped>\n",
              "    .dataframe tbody tr th:only-of-type {\n",
              "        vertical-align: middle;\n",
              "    }\n",
              "\n",
              "    .dataframe tbody tr th {\n",
              "        vertical-align: top;\n",
              "    }\n",
              "\n",
              "    .dataframe thead th {\n",
              "        text-align: right;\n",
              "    }\n",
              "</style>\n",
              "<table border=\"1\" class=\"dataframe\">\n",
              "  <thead>\n",
              "    <tr style=\"text-align: right;\">\n",
              "      <th></th>\n",
              "      <th>Index</th>\n",
              "      <th>Date</th>\n",
              "      <th>Open</th>\n",
              "      <th>High</th>\n",
              "      <th>Low</th>\n",
              "      <th>Close</th>\n",
              "      <th>Adj Close</th>\n",
              "      <th>Volume</th>\n",
              "      <th>CloseUSD</th>\n",
              "    </tr>\n",
              "  </thead>\n",
              "  <tbody>\n",
              "    <tr>\n",
              "      <th>42152</th>\n",
              "      <td>N225</td>\n",
              "      <td>1970-01-14</td>\n",
              "      <td>2288.139893</td>\n",
              "      <td>2288.139893</td>\n",
              "      <td>2288.139893</td>\n",
              "      <td>2288.139893</td>\n",
              "      <td>2288.139893</td>\n",
              "      <td>0.0</td>\n",
              "      <td>22.881399</td>\n",
              "    </tr>\n",
              "    <tr>\n",
              "      <th>78587</th>\n",
              "      <td>NSEI</td>\n",
              "      <td>2016-01-22</td>\n",
              "      <td>7355.700195</td>\n",
              "      <td>7433.399902</td>\n",
              "      <td>7327.600098</td>\n",
              "      <td>7422.450195</td>\n",
              "      <td>7422.450195</td>\n",
              "      <td>229200.0</td>\n",
              "      <td>74.224502</td>\n",
              "    </tr>\n",
              "    <tr>\n",
              "      <th>62814</th>\n",
              "      <td>399001.SZ</td>\n",
              "      <td>2008-03-12</td>\n",
              "      <td>15107.839840</td>\n",
              "      <td>15173.120120</td>\n",
              "      <td>14301.480470</td>\n",
              "      <td>14348.459960</td>\n",
              "      <td>14348.298830</td>\n",
              "      <td>36200.0</td>\n",
              "      <td>2295.753594</td>\n",
              "    </tr>\n",
              "    <tr>\n",
              "      <th>54219</th>\n",
              "      <td>N225</td>\n",
              "      <td>2019-01-21</td>\n",
              "      <td>20848.380860</td>\n",
              "      <td>20892.679690</td>\n",
              "      <td>20678.259770</td>\n",
              "      <td>20719.330080</td>\n",
              "      <td>20719.330080</td>\n",
              "      <td>61200000.0</td>\n",
              "      <td>207.193301</td>\n",
              "    </tr>\n",
              "    <tr>\n",
              "      <th>95565</th>\n",
              "      <td>SSMI</td>\n",
              "      <td>2019-08-09</td>\n",
              "      <td>9745.030273</td>\n",
              "      <td>9804.700195</td>\n",
              "      <td>9728.790039</td>\n",
              "      <td>9749.919922</td>\n",
              "      <td>9749.919922</td>\n",
              "      <td>63210100.0</td>\n",
              "      <td>10822.411113</td>\n",
              "    </tr>\n",
              "  </tbody>\n",
              "</table>\n",
              "</div>\n",
              "    <div class=\"colab-df-buttons\">\n",
              "\n",
              "  <div class=\"colab-df-container\">\n",
              "    <button class=\"colab-df-convert\" onclick=\"convertToInteractive('df-929e5d3b-9ad9-4dd6-8896-7ab462897a44')\"\n",
              "            title=\"Convert this dataframe to an interactive table.\"\n",
              "            style=\"display:none;\">\n",
              "\n",
              "  <svg xmlns=\"http://www.w3.org/2000/svg\" height=\"24px\" viewBox=\"0 -960 960 960\">\n",
              "    <path d=\"M120-120v-720h720v720H120Zm60-500h600v-160H180v160Zm220 220h160v-160H400v160Zm0 220h160v-160H400v160ZM180-400h160v-160H180v160Zm440 0h160v-160H620v160ZM180-180h160v-160H180v160Zm440 0h160v-160H620v160Z\"/>\n",
              "  </svg>\n",
              "    </button>\n",
              "\n",
              "  <style>\n",
              "    .colab-df-container {\n",
              "      display:flex;\n",
              "      gap: 12px;\n",
              "    }\n",
              "\n",
              "    .colab-df-convert {\n",
              "      background-color: #E8F0FE;\n",
              "      border: none;\n",
              "      border-radius: 50%;\n",
              "      cursor: pointer;\n",
              "      display: none;\n",
              "      fill: #1967D2;\n",
              "      height: 32px;\n",
              "      padding: 0 0 0 0;\n",
              "      width: 32px;\n",
              "    }\n",
              "\n",
              "    .colab-df-convert:hover {\n",
              "      background-color: #E2EBFA;\n",
              "      box-shadow: 0px 1px 2px rgba(60, 64, 67, 0.3), 0px 1px 3px 1px rgba(60, 64, 67, 0.15);\n",
              "      fill: #174EA6;\n",
              "    }\n",
              "\n",
              "    .colab-df-buttons div {\n",
              "      margin-bottom: 4px;\n",
              "    }\n",
              "\n",
              "    [theme=dark] .colab-df-convert {\n",
              "      background-color: #3B4455;\n",
              "      fill: #D2E3FC;\n",
              "    }\n",
              "\n",
              "    [theme=dark] .colab-df-convert:hover {\n",
              "      background-color: #434B5C;\n",
              "      box-shadow: 0px 1px 3px 1px rgba(0, 0, 0, 0.15);\n",
              "      filter: drop-shadow(0px 1px 2px rgba(0, 0, 0, 0.3));\n",
              "      fill: #FFFFFF;\n",
              "    }\n",
              "  </style>\n",
              "\n",
              "    <script>\n",
              "      const buttonEl =\n",
              "        document.querySelector('#df-929e5d3b-9ad9-4dd6-8896-7ab462897a44 button.colab-df-convert');\n",
              "      buttonEl.style.display =\n",
              "        google.colab.kernel.accessAllowed ? 'block' : 'none';\n",
              "\n",
              "      async function convertToInteractive(key) {\n",
              "        const element = document.querySelector('#df-929e5d3b-9ad9-4dd6-8896-7ab462897a44');\n",
              "        const dataTable =\n",
              "          await google.colab.kernel.invokeFunction('convertToInteractive',\n",
              "                                                    [key], {});\n",
              "        if (!dataTable) return;\n",
              "\n",
              "        const docLinkHtml = 'Like what you see? Visit the ' +\n",
              "          '<a target=\"_blank\" href=https://colab.research.google.com/notebooks/data_table.ipynb>data table notebook</a>'\n",
              "          + ' to learn more about interactive tables.';\n",
              "        element.innerHTML = '';\n",
              "        dataTable['output_type'] = 'display_data';\n",
              "        await google.colab.output.renderOutput(dataTable, element);\n",
              "        const docLink = document.createElement('div');\n",
              "        docLink.innerHTML = docLinkHtml;\n",
              "        element.appendChild(docLink);\n",
              "      }\n",
              "    </script>\n",
              "  </div>\n",
              "\n",
              "\n",
              "<div id=\"df-bfdd9cda-9f0b-4306-8197-ca0b209296c8\">\n",
              "  <button class=\"colab-df-quickchart\" onclick=\"quickchart('df-bfdd9cda-9f0b-4306-8197-ca0b209296c8')\"\n",
              "            title=\"Suggest charts\"\n",
              "            style=\"display:none;\">\n",
              "\n",
              "<svg xmlns=\"http://www.w3.org/2000/svg\" height=\"24px\"viewBox=\"0 0 24 24\"\n",
              "     width=\"24px\">\n",
              "    <g>\n",
              "        <path d=\"M19 3H5c-1.1 0-2 .9-2 2v14c0 1.1.9 2 2 2h14c1.1 0 2-.9 2-2V5c0-1.1-.9-2-2-2zM9 17H7v-7h2v7zm4 0h-2V7h2v10zm4 0h-2v-4h2v4z\"/>\n",
              "    </g>\n",
              "</svg>\n",
              "  </button>\n",
              "\n",
              "<style>\n",
              "  .colab-df-quickchart {\n",
              "      --bg-color: #E8F0FE;\n",
              "      --fill-color: #1967D2;\n",
              "      --hover-bg-color: #E2EBFA;\n",
              "      --hover-fill-color: #174EA6;\n",
              "      --disabled-fill-color: #AAA;\n",
              "      --disabled-bg-color: #DDD;\n",
              "  }\n",
              "\n",
              "  [theme=dark] .colab-df-quickchart {\n",
              "      --bg-color: #3B4455;\n",
              "      --fill-color: #D2E3FC;\n",
              "      --hover-bg-color: #434B5C;\n",
              "      --hover-fill-color: #FFFFFF;\n",
              "      --disabled-bg-color: #3B4455;\n",
              "      --disabled-fill-color: #666;\n",
              "  }\n",
              "\n",
              "  .colab-df-quickchart {\n",
              "    background-color: var(--bg-color);\n",
              "    border: none;\n",
              "    border-radius: 50%;\n",
              "    cursor: pointer;\n",
              "    display: none;\n",
              "    fill: var(--fill-color);\n",
              "    height: 32px;\n",
              "    padding: 0;\n",
              "    width: 32px;\n",
              "  }\n",
              "\n",
              "  .colab-df-quickchart:hover {\n",
              "    background-color: var(--hover-bg-color);\n",
              "    box-shadow: 0 1px 2px rgba(60, 64, 67, 0.3), 0 1px 3px 1px rgba(60, 64, 67, 0.15);\n",
              "    fill: var(--button-hover-fill-color);\n",
              "  }\n",
              "\n",
              "  .colab-df-quickchart-complete:disabled,\n",
              "  .colab-df-quickchart-complete:disabled:hover {\n",
              "    background-color: var(--disabled-bg-color);\n",
              "    fill: var(--disabled-fill-color);\n",
              "    box-shadow: none;\n",
              "  }\n",
              "\n",
              "  .colab-df-spinner {\n",
              "    border: 2px solid var(--fill-color);\n",
              "    border-color: transparent;\n",
              "    border-bottom-color: var(--fill-color);\n",
              "    animation:\n",
              "      spin 1s steps(1) infinite;\n",
              "  }\n",
              "\n",
              "  @keyframes spin {\n",
              "    0% {\n",
              "      border-color: transparent;\n",
              "      border-bottom-color: var(--fill-color);\n",
              "      border-left-color: var(--fill-color);\n",
              "    }\n",
              "    20% {\n",
              "      border-color: transparent;\n",
              "      border-left-color: var(--fill-color);\n",
              "      border-top-color: var(--fill-color);\n",
              "    }\n",
              "    30% {\n",
              "      border-color: transparent;\n",
              "      border-left-color: var(--fill-color);\n",
              "      border-top-color: var(--fill-color);\n",
              "      border-right-color: var(--fill-color);\n",
              "    }\n",
              "    40% {\n",
              "      border-color: transparent;\n",
              "      border-right-color: var(--fill-color);\n",
              "      border-top-color: var(--fill-color);\n",
              "    }\n",
              "    60% {\n",
              "      border-color: transparent;\n",
              "      border-right-color: var(--fill-color);\n",
              "    }\n",
              "    80% {\n",
              "      border-color: transparent;\n",
              "      border-right-color: var(--fill-color);\n",
              "      border-bottom-color: var(--fill-color);\n",
              "    }\n",
              "    90% {\n",
              "      border-color: transparent;\n",
              "      border-bottom-color: var(--fill-color);\n",
              "    }\n",
              "  }\n",
              "</style>\n",
              "\n",
              "  <script>\n",
              "    async function quickchart(key) {\n",
              "      const quickchartButtonEl =\n",
              "        document.querySelector('#' + key + ' button');\n",
              "      quickchartButtonEl.disabled = true;  // To prevent multiple clicks.\n",
              "      quickchartButtonEl.classList.add('colab-df-spinner');\n",
              "      try {\n",
              "        const charts = await google.colab.kernel.invokeFunction(\n",
              "            'suggestCharts', [key], {});\n",
              "      } catch (error) {\n",
              "        console.error('Error during call to suggestCharts:', error);\n",
              "      }\n",
              "      quickchartButtonEl.classList.remove('colab-df-spinner');\n",
              "      quickchartButtonEl.classList.add('colab-df-quickchart-complete');\n",
              "    }\n",
              "    (() => {\n",
              "      let quickchartButtonEl =\n",
              "        document.querySelector('#df-bfdd9cda-9f0b-4306-8197-ca0b209296c8 button');\n",
              "      quickchartButtonEl.style.display =\n",
              "        google.colab.kernel.accessAllowed ? 'block' : 'none';\n",
              "    })();\n",
              "  </script>\n",
              "</div>\n",
              "\n",
              "    </div>\n",
              "  </div>\n"
            ],
            "application/vnd.google.colaboratory.intrinsic+json": {
              "type": "dataframe",
              "repr_error": "0"
            }
          },
          "metadata": {},
          "execution_count": 21
        }
      ]
    },
    {
      "cell_type": "code",
      "source": [
        "while True:\n",
        "    dict_stock = df.sample(1).to_dict(orient=\"records\")[0]\n",
        "    producer.send('demo_test', value=dict_stock)\n"
      ],
      "metadata": {
        "id": "IfH3SwjTiyDT"
      },
      "execution_count": null,
      "outputs": []
    },
    {
      "cell_type": "code",
      "source": [
        "producer.flush()"
      ],
      "metadata": {
        "id": "Gc4wtGnAJ50_"
      },
      "execution_count": null,
      "outputs": []
    },
    {
      "cell_type": "code",
      "source": [],
      "metadata": {
        "id": "GFLxVfyEyX-Z"
      },
      "execution_count": null,
      "outputs": []
    }
  ]
}